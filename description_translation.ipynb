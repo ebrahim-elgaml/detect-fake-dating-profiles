{
 "cells": [
  {
   "cell_type": "code",
   "execution_count": 1,
   "id": "closing-mambo",
   "metadata": {},
   "outputs": [],
   "source": [
    "import os\n",
    "from wordcloud import WordCloud\n",
    "os.environ[\"JAVA_HOME\"] = \"/usr/lib/jvm/java-8-openjdk-amd64\"\n",
    "os.environ[\"SPARK_HOME\"] = \"/home/ebrahim/Downloads/spark-3.0.1-bin-hadoop3.2\""
   ]
  },
  {
   "cell_type": "code",
   "execution_count": 2,
   "id": "regional-hierarchy",
   "metadata": {},
   "outputs": [],
   "source": [
    "import json\n",
    "import os\n",
    "import findspark\n",
    "from pyspark.sql.session import SparkSession\n",
    "from pyspark.sql import functions as F\n",
    "from pyspark.sql import types as T\n",
    "from pyspark.sql import Window\n",
    "findspark.init()\n",
    "os.environ[\"PYSPARK_DRIVER_PYTHON\"] = os.environ[\"PYSPARK_PYTHON\"] = \"/usr/bin/python3.7\"\n"
   ]
  },
  {
   "cell_type": "code",
   "execution_count": 54,
   "id": "juvenile-oregon",
   "metadata": {},
   "outputs": [],
   "source": [
    "from googletrans import Translator\n",
    "translator = Translator(service_urls=['translate.googleapis.com','translate.google.com','translate.google.co.kr'])"
   ]
  },
  {
   "cell_type": "code",
   "execution_count": 53,
   "id": "agreed-diagnosis",
   "metadata": {},
   "outputs": [],
   "source": [
    "translator = Translator(service_urls=['translate.googleapis.com','translate.google.com','translate.google.co.kr'])"
   ]
  },
  {
   "cell_type": "code",
   "execution_count": 5,
   "id": "architectural-grace",
   "metadata": {},
   "outputs": [],
   "source": [
    "# findspark.init()\n",
    "spark = SparkSession.builder.master(\"local[*]\").getOrCreate()"
   ]
  },
  {
   "cell_type": "markdown",
   "id": "sensitive-completion",
   "metadata": {},
   "source": [
    "### Read profiles"
   ]
  },
  {
   "cell_type": "code",
   "execution_count": 8,
   "id": "cardiovascular-montreal",
   "metadata": {},
   "outputs": [],
   "source": [
    "profiles_df = spark.read.parquet(\"./cleaned_ids/parquet/*.parquet\").filter(F.col(\"description\").isNotNull()).filter(F.col(\"description\") != '').select(\n",
    "    F.col(\"id\"),\n",
    "    F.col(\"description\"),\n",
    ").cache()"
   ]
  },
  {
   "cell_type": "code",
   "execution_count": 9,
   "id": "closed-mayor",
   "metadata": {},
   "outputs": [
    {
     "data": {
      "text/plain": [
       "15183"
      ]
     },
     "execution_count": 9,
     "metadata": {},
     "output_type": "execute_result"
    }
   ],
   "source": [
    "profiles_df.select(F.col(\"id\")).distinct().count()"
   ]
  },
  {
   "cell_type": "code",
   "execution_count": 77,
   "id": "impressed-speaker",
   "metadata": {},
   "outputs": [],
   "source": [
    "rows = profiles_df.collect()"
   ]
  },
  {
   "cell_type": "code",
   "execution_count": 75,
   "id": "loving-winter",
   "metadata": {},
   "outputs": [],
   "source": [
    "skipped_indexes = set()\n",
    "translated_rows = 0\n",
    "english_rows = 0\n",
    "none_rows = 0"
   ]
  },
  {
   "cell_type": "code",
   "execution_count": 76,
   "id": "vital-trade",
   "metadata": {},
   "outputs": [],
   "source": [
    "translated_description = {} "
   ]
  },
  {
   "cell_type": "code",
   "execution_count": 65,
   "id": "arranged-bennett",
   "metadata": {},
   "outputs": [
    {
     "data": {
      "text/plain": [
       "'difficult situation'"
      ]
     },
     "execution_count": 65,
     "metadata": {},
     "output_type": "execute_result"
    }
   ],
   "source": [
    "translator.translate('svízelná situace', src='cs', dest='en').text"
   ]
  },
  {
   "cell_type": "code",
   "execution_count": null,
   "id": "dependent-territory",
   "metadata": {},
   "outputs": [],
   "source": [
    "for i in range(len(rows)):\n",
    "    row = rows[i]\n",
    "    if row.id in translated_description:\n",
    "        continue\n",
    "    try:\n",
    "        description = row.description\n",
    "        if not description:\n",
    "            none_rows += 1\n",
    "            translated_description[row.id] = description\n",
    "            continue\n",
    "        translated_description[row.id] = translator.translate(description, dest='en').text\n",
    "        translated_rows += 1\n",
    "        if translated_rows % 100 == 0:\n",
    "            print(\"Done translating 100 records\", len(translated_description))\n",
    "    except Exception as e:\n",
    "        print(\"Catch\", e)\n",
    "        print(\"For index\", i)\n",
    "        skipped_indexes.add(i)"
   ]
  },
  {
   "cell_type": "code",
   "execution_count": 80,
   "id": "forward-discrimination",
   "metadata": {},
   "outputs": [
    {
     "data": {
      "text/plain": [
       "15183"
      ]
     },
     "execution_count": 80,
     "metadata": {},
     "output_type": "execute_result"
    }
   ],
   "source": [
    "translated_rows"
   ]
  },
  {
   "cell_type": "code",
   "execution_count": 81,
   "id": "driving-animation",
   "metadata": {},
   "outputs": [],
   "source": [
    "translated_df = spark.createDataFrame(\n",
    "    [\n",
    "        [k, v] for k, v in translated_description.items()\n",
    "        \n",
    "    ], schema=T.StructType([\n",
    "        T.StructField(\"id\", T.IntegerType(), True),\n",
    "        T.StructField(\"translated_description\", T.StringType(), True),\n",
    "    ])\n",
    ").cache()"
   ]
  },
  {
   "cell_type": "code",
   "execution_count": 82,
   "id": "ready-rugby",
   "metadata": {},
   "outputs": [
    {
     "data": {
      "text/plain": [
       "15183"
      ]
     },
     "execution_count": 82,
     "metadata": {},
     "output_type": "execute_result"
    }
   ],
   "source": [
    "translated_df.count()"
   ]
  },
  {
   "cell_type": "code",
   "execution_count": 153,
   "id": "compatible-fluid",
   "metadata": {},
   "outputs": [],
   "source": [
    "translated_df.withColumn(\n",
    "    \"translated_description\",\n",
    "    F.regexp_replace(F.col(\"translated_description\"), r\"\\r\", \" \")\n",
    ").withColumn(\n",
    "    \"translated_description\",\n",
    "    F.regexp_replace(F.col(\"translated_description\"), r\"\\n\", \" \")\n",
    ").repartition(1).write.csv(\"./translated/csv_3\", header=True, mode=\"overwrite\", sep=',')"
   ]
  },
  {
   "cell_type": "markdown",
   "id": "finnish-piece",
   "metadata": {},
   "source": [
    "> Write to csv in order to read the data and translate the remaining rows with goggle sheet because the python package couldn't manage to translate everything"
   ]
  },
  {
   "cell_type": "code",
   "execution_count": 84,
   "id": "dress-manufacturer",
   "metadata": {},
   "outputs": [],
   "source": [
    "all_profiles_df = spark.read.parquet(\"./cleaned_ids/parquet/*.parquet\").cache()"
   ]
  },
  {
   "cell_type": "code",
   "execution_count": 156,
   "id": "inclusive-customs",
   "metadata": {},
   "outputs": [],
   "source": [
    "translated_gsheet_df = spark.read.csv(\"./translated/gsheet_translation.csv\", header=True).select(\n",
    "    F.col(\"id\"),\n",
    "    F.col(\"translated_gsheet\").alias(\"translated_description\")\n",
    ")"
   ]
  },
  {
   "cell_type": "markdown",
   "id": "julian-blade",
   "metadata": {},
   "source": [
    "> Read tramslated data from google sheet"
   ]
  },
  {
   "cell_type": "code",
   "execution_count": 158,
   "id": "complicated-luther",
   "metadata": {},
   "outputs": [
    {
     "name": "stdout",
     "output_type": "stream",
     "text": [
      "+---+----------------------+\n",
      "| id|translated_description|\n",
      "+---+----------------------+\n",
      "|  1|  \"in short, I'm a ...|\n",
      "|  2|  lets see, i am sp...|\n",
      "+---+----------------------+\n",
      "only showing top 2 rows\n",
      "\n"
     ]
    }
   ],
   "source": [
    "translated_gsheet_df.show(2)"
   ]
  },
  {
   "cell_type": "code",
   "execution_count": 159,
   "id": "statistical-christopher",
   "metadata": {},
   "outputs": [],
   "source": [
    "all_profiles_df.join(translated_gsheet_df, on=[\"id\"], how=\"left\").withColumn(\n",
    "    \"translated_description\",\n",
    "    F.when(\n",
    "        F.col(\"translated_description\").isNull(),\n",
    "        F.col(\"description\"),\n",
    "    ).otherwise(F.col(\"translated_description\"))\n",
    ").write.parquet(\"./translated/gsheet\")"
   ]
  },
  {
   "cell_type": "code",
   "execution_count": 94,
   "id": "informed-mandate",
   "metadata": {},
   "outputs": [],
   "source": [
    "spark.stop()"
   ]
  }
 ],
 "metadata": {
  "kernelspec": {
   "display_name": "Python 3",
   "language": "python",
   "name": "python3"
  },
  "language_info": {
   "codemirror_mode": {
    "name": "ipython",
    "version": 3
   },
   "file_extension": ".py",
   "mimetype": "text/x-python",
   "name": "python",
   "nbconvert_exporter": "python",
   "pygments_lexer": "ipython3",
   "version": "3.7.4"
  }
 },
 "nbformat": 4,
 "nbformat_minor": 5
}
