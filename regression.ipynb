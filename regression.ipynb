{
 "cells": [
  {
   "cell_type": "code",
   "execution_count": 1,
   "id": "subject-surgery",
   "metadata": {},
   "outputs": [],
   "source": [
    "import os\n",
    "os.environ[\"JAVA_HOME\"] = \"/usr/lib/jvm/java-8-openjdk-amd64\"\n",
    "os.environ[\"SPARK_HOME\"] = \"/home/ebrahim/Downloads/spark-3.0.1-bin-hadoop3.2\""
   ]
  },
  {
   "cell_type": "code",
   "execution_count": 2,
   "id": "faced-mechanism",
   "metadata": {},
   "outputs": [
    {
     "name": "stderr",
     "output_type": "stream",
     "text": [
      "UsageError: Line magic function `%` not found.\n"
     ]
    }
   ],
   "source": [
    "import matplotlib.pyplot as plt\n",
    "% matplotlib inline"
   ]
  },
  {
   "cell_type": "code",
   "execution_count": 3,
   "id": "possible-shaft",
   "metadata": {},
   "outputs": [],
   "source": [
    "import json\n",
    "import os\n",
    "import findspark\n",
    "from pyspark.sql.session import SparkSession\n",
    "from pyspark.sql import functions as F\n",
    "from pyspark.sql import types as T\n",
    "from pyspark.sql import Window\n",
    "import seaborn as sns\n",
    "\n",
    "findspark.init()\n",
    "os.environ[\"PYSPARK_DRIVER_PYTHON\"] = os.environ[\"PYSPARK_PYTHON\"] = \"/usr/bin/python3.7\"\n"
   ]
  },
  {
   "cell_type": "code",
   "execution_count": 4,
   "id": "substantial-habitat",
   "metadata": {},
   "outputs": [],
   "source": [
    "from pyspark.ml.feature import VectorAssembler\n",
    "from pyspark.ml.feature import OneHotEncoder\n",
    "from pyspark.ml.feature import StringIndexer\n",
    "from pyspark.ml.feature import HashingTF\n",
    "from pyspark.ml.feature import IDF\n",
    "from pyspark.ml.feature import Tokenizer\n",
    "from pyspark.ml.feature import CountVectorizer\n",
    "from pyspark.ml import Pipeline\n",
    "from pyspark.ml.evaluation import BinaryClassificationEvaluator\n",
    "from pyspark.ml.feature import StopWordsRemover"
   ]
  },
  {
   "cell_type": "code",
   "execution_count": 5,
   "id": "based-grocery",
   "metadata": {},
   "outputs": [],
   "source": [
    "spark = SparkSession.builder.master(\"local[*]\").getOrCreate()"
   ]
  },
  {
   "cell_type": "markdown",
   "id": "employed-segment",
   "metadata": {},
   "source": [
    "## Read all profiles"
   ]
  },
  {
   "cell_type": "code",
   "execution_count": 6,
   "id": "occupied-weight",
   "metadata": {},
   "outputs": [],
   "source": [
    "profiles_df = spark.read.parquet('./translated/gsheet/*.parquet').withColumn(\n",
    "    \"translated_description\",\n",
    "    F.regexp_replace(F.col(\"translated_description\"), r\"\\.|\\'|\\\"|\\[|\\]|\\,|\\-|\\+|\\(|\\)|\\`|\\*|\\^\", \" \")\n",
    ").withColumn(\n",
    "    \"translated_description\",\n",
    "    F.regexp_replace(F.col(\"translated_description\"), r\"\\s+\", \" \")\n",
    ").withColumn(\n",
    "    \"translated_description\",\n",
    "    F.lower(\"translated_description\"),\n",
    ").withColumn(\n",
    "    \"status\",\n",
    "    F.when(\n",
    "        F.col(\"status\").startswith(\"wi\"),\n",
    "        F.lit(\"widowed\"),\n",
    "    ).when(\n",
    "        F.col(\"status\").startswith(\"di\"),\n",
    "        F.lit(\"divorced\"),\n",
    "    ).when(\n",
    "        F.col(\"status\").startswith(\"sep\"),\n",
    "        F.lit(\"separated\"),\n",
    "    ).when(\n",
    "        F.col(\"status\").startswith(\"married\"),\n",
    "        F.lit(\"married\"),\n",
    "    ).when(\n",
    "        F.col(\"status\") == \"in relationship\",\n",
    "        F.col(\"status\"),\n",
    "    ).when(\n",
    "        F.col(\"status\").startswith(\"sing\"),\n",
    "        F.lit(\"single\"),\n",
    "    ).otherwise(F.lit(\"other\")),\n",
    ").select(\n",
    "    F.col(\"age\").cast(T.IntegerType()).alias(\"age\"),\n",
    "    F.col(\"ethnicity\"),\n",
    "    F.when(F.col(\"gender\") == \"male\", F.lit(0)).otherwise(F.lit(1)).alias(\"gender\"),\n",
    "    F.col(\"scam\"),\n",
    "    F.col(\"status\"),\n",
    "    F.col(\"translated_description\").alias(\"description\")\n",
    ")"
   ]
  },
  {
   "cell_type": "code",
   "execution_count": 7,
   "id": "inappropriate-nirvana",
   "metadata": {},
   "outputs": [
    {
     "name": "stdout",
     "output_type": "stream",
     "text": [
      "+----+-----+\n",
      "|scam|count|\n",
      "+----+-----+\n",
      "|   0|36276|\n",
      "|   1| 7987|\n",
      "+----+-----+\n",
      "\n"
     ]
    }
   ],
   "source": [
    "profiles_df.groupBy(\"scam\").count().show(3)"
   ]
  },
  {
   "cell_type": "markdown",
   "id": "painted-belly",
   "metadata": {},
   "source": [
    "### Correlation between independent cols"
   ]
  },
  {
   "cell_type": "code",
   "execution_count": 8,
   "id": "moderate-companion",
   "metadata": {},
   "outputs": [],
   "source": [
    "indexer = StringIndexer(inputCols=[\"ethnicity\", \"status\"], outputCols=[\"ethnicity_index\", \"status_index\"])"
   ]
  },
  {
   "cell_type": "code",
   "execution_count": 9,
   "id": "cheap-campus",
   "metadata": {},
   "outputs": [],
   "source": [
    "indexed = indexer.setHandleInvalid(\"skip\").fit(profiles_df.drop(\"scam\")).transform(profiles_df.drop(\"scam\"))"
   ]
  },
  {
   "cell_type": "code",
   "execution_count": 10,
   "id": "opened-vintage",
   "metadata": {},
   "outputs": [],
   "source": [
    "corr = indexed.toPandas().corr()"
   ]
  },
  {
   "cell_type": "code",
   "execution_count": 11,
   "id": "subjective-favor",
   "metadata": {},
   "outputs": [
    {
     "data": {
      "text/html": [
       "<div>\n",
       "<style scoped>\n",
       "    .dataframe tbody tr th:only-of-type {\n",
       "        vertical-align: middle;\n",
       "    }\n",
       "\n",
       "    .dataframe tbody tr th {\n",
       "        vertical-align: top;\n",
       "    }\n",
       "\n",
       "    .dataframe thead th {\n",
       "        text-align: right;\n",
       "    }\n",
       "</style>\n",
       "<table border=\"1\" class=\"dataframe\">\n",
       "  <thead>\n",
       "    <tr style=\"text-align: right;\">\n",
       "      <th></th>\n",
       "      <th>age</th>\n",
       "      <th>gender</th>\n",
       "      <th>ethnicity_index</th>\n",
       "      <th>status_index</th>\n",
       "    </tr>\n",
       "  </thead>\n",
       "  <tbody>\n",
       "    <tr>\n",
       "      <th>age</th>\n",
       "      <td>1.000000</td>\n",
       "      <td>-0.158107</td>\n",
       "      <td>-0.113374</td>\n",
       "      <td>0.351142</td>\n",
       "    </tr>\n",
       "    <tr>\n",
       "      <th>gender</th>\n",
       "      <td>-0.158107</td>\n",
       "      <td>1.000000</td>\n",
       "      <td>0.021581</td>\n",
       "      <td>-0.077619</td>\n",
       "    </tr>\n",
       "    <tr>\n",
       "      <th>ethnicity_index</th>\n",
       "      <td>-0.113374</td>\n",
       "      <td>0.021581</td>\n",
       "      <td>1.000000</td>\n",
       "      <td>-0.042973</td>\n",
       "    </tr>\n",
       "    <tr>\n",
       "      <th>status_index</th>\n",
       "      <td>0.351142</td>\n",
       "      <td>-0.077619</td>\n",
       "      <td>-0.042973</td>\n",
       "      <td>1.000000</td>\n",
       "    </tr>\n",
       "  </tbody>\n",
       "</table>\n",
       "</div>"
      ],
      "text/plain": [
       "                      age    gender  ethnicity_index  status_index\n",
       "age              1.000000 -0.158107        -0.113374      0.351142\n",
       "gender          -0.158107  1.000000         0.021581     -0.077619\n",
       "ethnicity_index -0.113374  0.021581         1.000000     -0.042973\n",
       "status_index     0.351142 -0.077619        -0.042973      1.000000"
      ]
     },
     "execution_count": 11,
     "metadata": {},
     "output_type": "execute_result"
    }
   ],
   "source": [
    "corr"
   ]
  },
  {
   "cell_type": "code",
   "execution_count": 12,
   "id": "female-corporation",
   "metadata": {},
   "outputs": [
    {
     "data": {
      "image/png": "[encoded data removed]",
      "text/plain": [
       "<Figure size 1080x648 with 2 Axes>"
      ]
     },
     "metadata": {
      "needs_background": "light"
     },
     "output_type": "display_data"
    }
   ],
   "source": [
    "fig, ax = plt.subplots(figsize=(15, 9)) \n",
    "\n",
    "ax = sns.heatmap(\n",
    "    corr, \n",
    "    vmin=-1, vmax=1, center=0,\n",
    "    cmap=sns.diverging_palette(20, 220, n=200),\n",
    "    square=True\n",
    ")"
   ]
  },
  {
   "cell_type": "markdown",
   "id": "planned-entity",
   "metadata": {},
   "source": [
    "> Lets pick all of them"
   ]
  },
  {
   "cell_type": "markdown",
   "id": "complicated-tanzania",
   "metadata": {},
   "source": [
    "### Logistic regression"
   ]
  },
  {
   "cell_type": "code",
   "execution_count": 13,
   "id": "coordinate-surge",
   "metadata": {},
   "outputs": [],
   "source": [
    "stages = []\n",
    "categoral_cols = [\"ethnicity\", \"status\"]\n",
    "\n",
    "num_cols = [\"age\", \"gender\",]"
   ]
  },
  {
   "cell_type": "code",
   "execution_count": 14,
   "id": "colored-automation",
   "metadata": {},
   "outputs": [],
   "source": [
    "for categoricalCol in categoral_cols:\n",
    "    stringIndexer = StringIndexer(inputCol = categoricalCol, outputCol = categoricalCol + 'Index').setHandleInvalid(\"skip\")\n",
    "    encoder = OneHotEncoder(inputCols=[stringIndexer.getOutputCol()], outputCols=[categoricalCol + \"classVec\"])\n",
    "    stages += [stringIndexer, encoder]\n"
   ]
  },
  {
   "cell_type": "markdown",
   "id": "hispanic-terrain",
   "metadata": {},
   "source": [
    "> Normal cols"
   ]
  },
  {
   "cell_type": "code",
   "execution_count": 15,
   "id": "brutal-blake",
   "metadata": {},
   "outputs": [],
   "source": [
    "tokenizer = Tokenizer(inputCol=\"description\", outputCol=\"words\")\n",
    "remover = StopWordsRemover(inputCol=\"words\", outputCol=\"filtered\")\n",
    "\n",
    "cv = CountVectorizer(vocabSize=2**16, inputCol=\"filtered\", outputCol='cv')\n",
    "idf = IDF(inputCol='cv', outputCol=\"idf_features\", minDocFreq=5) #minDocFreq: remove sparse terms\n",
    "\n",
    "stages.append(tokenizer)\n",
    "stages.append(remover)\n",
    "stages.append(cv)\n",
    "stages.append(idf)"
   ]
  },
  {
   "cell_type": "code",
   "execution_count": 16,
   "id": "altered-replica",
   "metadata": {},
   "outputs": [],
   "source": [
    "label_stringIdx = StringIndexer(inputCol = 'scam', outputCol = 'label').setHandleInvalid(\"skip\")\n",
    "\n",
    "stages.append(label_stringIdx)\n",
    "\n",
    "assemblerInputs = [c + \"classVec\" for c in categoral_cols] + num_cols + [\"idf_features\"]\n",
    "assembler = VectorAssembler(inputCols=assemblerInputs, outputCol=\"features\").setHandleInvalid(\"skip\")\n",
    "\n",
    "stages.append(assembler)\n"
   ]
  },
  {
   "cell_type": "code",
   "execution_count": 17,
   "id": "clear-refrigerator",
   "metadata": {},
   "outputs": [
    {
     "data": {
      "text/plain": [
       "DataFrame[age: int, ethnicity: string, gender: int, scam: bigint, status: string, description: string]"
      ]
     },
     "execution_count": 17,
     "metadata": {},
     "output_type": "execute_result"
    }
   ],
   "source": [
    "profiles_df.withColumn(\"description\", F.when(F.col(\"description\").isNull(), F.lit(\"\")).otherwise(F.col(\"description\")))"
   ]
  },
  {
   "cell_type": "code",
   "execution_count": 18,
   "id": "pressing-intro",
   "metadata": {},
   "outputs": [
    {
     "name": "stdout",
     "output_type": "stream",
     "text": [
      "root\n",
      " |-- age: integer (nullable = true)\n",
      " |-- ethnicity: string (nullable = true)\n",
      " |-- gender: integer (nullable = false)\n",
      " |-- scam: long (nullable = true)\n",
      " |-- status: string (nullable = true)\n",
      " |-- description: string (nullable = true)\n",
      " |-- label: double (nullable = false)\n",
      " |-- features: vector (nullable = true)\n",
      "\n"
     ]
    }
   ],
   "source": [
    "pipeline = Pipeline(stages=stages)\n",
    "pipelineModel = pipeline.fit(profiles_df.withColumn(\"description\", F.when(F.col(\"description\").isNull(), F.lit(\"\")).otherwise(F.col(\"description\"))))\n",
    "df = pipelineModel.transform(profiles_df.withColumn(\"description\", F.when(F.col(\"description\").isNull(), F.lit(\"\")).otherwise(F.col(\"description\"))))\n",
    "df = df.drop(\"ethnicityIndex\", \"ethnicityclassVec\", \"statusclassVec\", \"words\", \"statusIndex\", \"tf\", \"idf\", \"filtered\", \"cv\", \"idf_features\")\n",
    "df.printSchema()"
   ]
  },
  {
   "cell_type": "code",
   "execution_count": 19,
   "id": "monetary-durham",
   "metadata": {},
   "outputs": [
    {
     "name": "stdout",
     "output_type": "stream",
     "text": [
      "Training Dataset Count: 29761\n",
      "Test Dataset Count: 12704\n"
     ]
    }
   ],
   "source": [
    "train, test = df.randomSplit([0.7, 0.3], seed = 2000)\n",
    "print(\"Training Dataset Count: \" + str(train.count()))\n",
    "print(\"Test Dataset Count: \" + str(test.count()))\n"
   ]
  },
  {
   "cell_type": "code",
   "execution_count": 20,
   "id": "level-genre",
   "metadata": {},
   "outputs": [
    {
     "name": "stdout",
     "output_type": "stream",
     "text": [
      "+----+-----+\n",
      "|scam|count|\n",
      "+----+-----+\n",
      "|   0|25075|\n",
      "|   1| 4686|\n",
      "+----+-----+\n",
      "\n"
     ]
    }
   ],
   "source": [
    "train.groupBy(\"scam\").count().show(20)"
   ]
  },
  {
   "cell_type": "code",
   "execution_count": 21,
   "id": "bridal-elevation",
   "metadata": {},
   "outputs": [
    {
     "name": "stdout",
     "output_type": "stream",
     "text": [
      "+----+-----+\n",
      "|scam|count|\n",
      "+----+-----+\n",
      "|   0|10754|\n",
      "|   1| 1950|\n",
      "+----+-----+\n",
      "\n"
     ]
    }
   ],
   "source": [
    "test.groupBy(\"scam\").count().show(20)"
   ]
  },
  {
   "cell_type": "code",
   "execution_count": 23,
   "id": "confirmed-sheep",
   "metadata": {},
   "outputs": [],
   "source": [
    "from pyspark.ml.classification import LogisticRegression\n",
    "lr = LogisticRegression(featuresCol='features', labelCol='label', maxIter=10)\n",
    "lrModel = lr.fit(train)"
   ]
  },
  {
   "cell_type": "code",
   "execution_count": 24,
   "id": "suburban-wilderness",
   "metadata": {},
   "outputs": [
    {
     "name": "stdout",
     "output_type": "stream",
     "text": [
      "+---+---------+------+----+------+-----------+-----+--------------------+--------------------+--------------------+----------+\n",
      "|age|ethnicity|gender|scam|status|description|label|            features|       rawPrediction|         probability|prediction|\n",
      "+---+---------+------+----+------+-----------+-----+--------------------+--------------------+--------------------+----------+\n",
      "| 19|    asian|     1|   0|single|           |  0.0|(18304,[4,12,18,1...|[4.32864819825129...|[0.98698623177156...|       0.0|\n",
      "| 19|    asian|     1|   0|single|           |  0.0|(18304,[4,12,18,1...|[4.32864819825129...|[0.98698623177156...|       0.0|\n",
      "+---+---------+------+----+------+-----------+-----+--------------------+--------------------+--------------------+----------+\n",
      "only showing top 2 rows\n",
      "\n"
     ]
    }
   ],
   "source": [
    "predictions = lrModel.transform(test)\n",
    "predictions.show(2)"
   ]
  },
  {
   "cell_type": "code",
   "execution_count": 25,
   "id": "discrete-nylon",
   "metadata": {},
   "outputs": [
    {
     "name": "stdout",
     "output_type": "stream",
     "text": [
      "Accuracy 0.9652153521885705\n"
     ]
    }
   ],
   "source": [
    "evaluator = BinaryClassificationEvaluator()\n",
    "print('Accuracy', evaluator.evaluate(predictions))"
   ]
  },
  {
   "cell_type": "code",
   "execution_count": null,
   "id": "parallel-performance",
   "metadata": {},
   "outputs": [],
   "source": [
    "spark.stop()"
   ]
  },
  {
   "cell_type": "code",
   "execution_count": null,
   "id": "warming-procedure",
   "metadata": {},
   "outputs": [],
   "source": []
  },
  {
   "cell_type": "code",
   "execution_count": null,
   "id": "conscious-bride",
   "metadata": {},
   "outputs": [],
   "source": []
  },
  {
   "cell_type": "code",
   "execution_count": null,
   "id": "motivated-conservation",
   "metadata": {},
   "outputs": [],
   "source": []
  }
 ],
 "metadata": {
  "kernelspec": {
   "display_name": "Python 3",
   "language": "python",
   "name": "python3"
  },
  "language_info": {
   "codemirror_mode": {
    "name": "ipython",
    "version": 3
   },
   "file_extension": ".py",
   "mimetype": "text/x-python",
   "name": "python",
   "nbconvert_exporter": "python",
   "pygments_lexer": "ipython3",
   "version": "3.7.4"
  }
 },
 "nbformat": 4,
 "nbformat_minor": 5
}
