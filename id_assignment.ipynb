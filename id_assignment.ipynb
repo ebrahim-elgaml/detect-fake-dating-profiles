{
 "cells": [
  {
   "cell_type": "code",
   "execution_count": 32,
   "id": "painted-integer",
   "metadata": {},
   "outputs": [],
   "source": [
    "import os\n",
    "os.environ[\"JAVA_HOME\"] = \"/usr/lib/jvm/java-8-openjdk-amd64\"\n",
    "os.environ[\"SPARK_HOME\"] = \"/home/ebrahim/Downloads/spark-3.0.1-bin-hadoop3.2\""
   ]
  },
  {
   "cell_type": "code",
   "execution_count": 33,
   "id": "duplicate-polls",
   "metadata": {},
   "outputs": [],
   "source": [
    "import json\n",
    "import os\n",
    "import findspark\n",
    "from pyspark.sql.session import SparkSession\n",
    "from pyspark.sql import functions as F\n",
    "from pyspark.sql import types as T\n",
    "from pyspark.sql import Window\n",
    "\n",
    "findspark.init()"
   ]
  },
  {
   "cell_type": "code",
   "execution_count": 34,
   "id": "planned-auction",
   "metadata": {},
   "outputs": [],
   "source": [
    "# findspark.init()\n",
    "spark = SparkSession.builder.master(\"local[*]\").getOrCreate()"
   ]
  },
  {
   "cell_type": "markdown",
   "id": "german-asian",
   "metadata": {},
   "source": [
    "## Assign id to each profile"
   ]
  },
  {
   "cell_type": "code",
   "execution_count": 35,
   "id": "pleased-ocean",
   "metadata": {},
   "outputs": [],
   "source": [
    "profiles_df = spark.read.json(\"./cleaned/*.json\")"
   ]
  },
  {
   "cell_type": "code",
   "execution_count": 36,
   "id": "superior-plasma",
   "metadata": {},
   "outputs": [
    {
     "data": {
      "text/plain": [
       "44263"
      ]
     },
     "execution_count": 36,
     "metadata": {},
     "output_type": "execute_result"
    }
   ],
   "source": [
    "profiles_df.count()"
   ]
  },
  {
   "cell_type": "code",
   "execution_count": 30,
   "id": "integrated-library",
   "metadata": {},
   "outputs": [],
   "source": [
    "profiles_df.withColumn(\"id\", F.row_number().over(Window.partitionBy().orderBy(\"age\"))).write.parquet(\"./cleaned_with_ids\")"
   ]
  },
  {
   "cell_type": "code",
   "execution_count": 31,
   "id": "automated-bronze",
   "metadata": {},
   "outputs": [],
   "source": [
    "spark.stop()"
   ]
  },
  {
   "cell_type": "code",
   "execution_count": null,
   "id": "lined-bonus",
   "metadata": {},
   "outputs": [],
   "source": []
  }
 ],
 "metadata": {
  "kernelspec": {
   "display_name": "Python 3",
   "language": "python",
   "name": "python3"
  },
  "language_info": {
   "codemirror_mode": {
    "name": "ipython",
    "version": 3
   },
   "file_extension": ".py",
   "mimetype": "text/x-python",
   "name": "python",
   "nbconvert_exporter": "python",
   "pygments_lexer": "ipython3",
   "version": "3.7.4"
  }
 },
 "nbformat": 4,
 "nbformat_minor": 5
}
